{
 "cells": [
  {
   "cell_type": "code",
   "execution_count": 1,
   "id": "96ac3647-46af-4550-8eb7-0cc88148ea24",
   "metadata": {},
   "outputs": [],
   "source": [
    "from sklearn.datasets import fetch_openml\n",
    "from sklearn.linear_model import SGDClassifier\n",
    "from sklearn.model_selection import cross_val_score, cross_val_predict\n",
    "from sklearn.dummy import DummyClassifier\n",
    "from sklearn.metrics import confusion_matrix, precision_score, recall_score, f1_score, precision_recall_curve, roc_auc_score, roc_curve\n",
    "from sklearn.preprocessing import StandardScaler\n",
    "from sklearn.ensemble import RandomForestClassifier\n",
    "import matplotlib.pyplot as plt\n",
    "\n",
    "dados = fetch_openml('mnist_784', as_frame=False)\n",
    "\n",
    "X, Y= dados.data, dados.target"
   ]
  },
  {
   "cell_type": "code",
   "execution_count": 2,
   "id": "34a16a1b-0fa6-4bf1-8eef-942bb77a21c5",
   "metadata": {},
   "outputs": [
    {
     "data": {
      "text/plain": [
       "(70000, 784)"
      ]
     },
     "execution_count": 2,
     "metadata": {},
     "output_type": "execute_result"
    }
   ],
   "source": [
    "X\n",
    "X.shape"
   ]
  },
  {
   "cell_type": "code",
   "execution_count": 3,
   "id": "e2fb3d98-dda3-49e7-9157-43a25bf38c27",
   "metadata": {},
   "outputs": [
    {
     "data": {
      "text/plain": [
       "(70000,)"
      ]
     },
     "execution_count": 3,
     "metadata": {},
     "output_type": "execute_result"
    }
   ],
   "source": [
    "Y.shape"
   ]
  },
  {
   "cell_type": "code",
   "execution_count": 4,
   "id": "33b8882c-b0c0-48d2-9faa-e1855d5be658",
   "metadata": {},
   "outputs": [
    {
     "data": {
      "image/png": "[encoded data removed]",
      "text/plain": [
       "<Figure size 640x480 with 1 Axes>"
      ]
     },
     "metadata": {},
     "output_type": "display_data"
    },
    {
     "data": {
      "text/plain": [
       "'2'"
      ]
     },
     "execution_count": 4,
     "metadata": {},
     "output_type": "execute_result"
    }
   ],
   "source": [
    "def mostrar_imagem(imagem):\n",
    "    imagem = imagem.reshape(28,28)\n",
    "    plt.imshow(imagem, cmap='binary')\n",
    "    plt.axis('off')\n",
    "digito = X[5]\n",
    "mostrar_imagem(digito)\n",
    "plt.show()\n",
    "Y[5]"
   ]
  },
  {
   "cell_type": "code",
   "execution_count": 5,
   "id": "58a42f3f-d84d-43ed-ab38-fbcbc592a59b",
   "metadata": {},
   "outputs": [
    {
     "data": {
      "text/plain": [
       "array([0.9745, 0.9767, 0.9801])"
      ]
     },
     "execution_count": 5,
     "metadata": {},
     "output_type": "execute_result"
    }
   ],
   "source": [
    "X_train, X_test, Y_train, Y_test = X[:60000], X[60000:],Y[:60000],Y[60000:]\n",
    "scaler = StandardScaler()\n",
    "X_train = scaler.fit_transform(X_train.astype(\"float64\"))\n",
    "X_test = scaler.fit_transform(X_test.astype(\"float64\"))\n",
    "Y_train_2 = (Y_train == '2')\n",
    "Y_test_2 = (Y_test == '2')\n",
    "modelo = SGDClassifier(random_state=60)\n",
    "cross_val_score(modelo , X_train, Y_train_2, cv=3, scoring='accuracy')"
   ]
  },
  {
   "cell_type": "code",
   "execution_count": 6,
   "id": "65afe81a-40c7-4654-acc9-53f88bca2c33",
   "metadata": {},
   "outputs": [],
   "source": [
    "#cross_val_score(DummyClassifier(), X_train, Y_train_2, cv=3, scoring='accuracy')"
   ]
  },
  {
   "cell_type": "code",
   "execution_count": 7,
   "id": "2a4835ca-b400-4d1f-81b4-0e8b307f67e3",
   "metadata": {},
   "outputs": [
    {
     "data": {
      "text/plain": [
       "array([False, False, False, ..., False, False, False])"
      ]
     },
     "execution_count": 7,
     "metadata": {},
     "output_type": "execute_result"
    }
   ],
   "source": [
    "y_pred = cross_val_predict(modelo, X_train, Y_train_2, cv = 5)\n",
    "y_pred"
   ]
  },
  {
   "cell_type": "code",
   "execution_count": 8,
   "id": "308e8fc3-d963-488d-87b1-ea4e38ffc1fc",
   "metadata": {},
   "outputs": [
    {
     "data": {
      "text/plain": [
       "array([[53650,   392],\n",
       "       [  933,  5025]], dtype=int64)"
      ]
     },
     "execution_count": 8,
     "metadata": {},
     "output_type": "execute_result"
    }
   ],
   "source": [
    "matrix = confusion_matrix(Y_train_2, y_pred)\n",
    "matrix"
   ]
  },
  {
   "cell_type": "code",
   "execution_count": 9,
   "id": "618cd840-d09f-4f3f-b0da-4767eb4428dd",
   "metadata": {},
   "outputs": [
    {
     "data": {
      "text/plain": [
       "0.9276352224478494"
      ]
     },
     "execution_count": 9,
     "metadata": {},
     "output_type": "execute_result"
    }
   ],
   "source": [
    "P = precision_score(Y_train_2, y_pred)\n",
    "P\n"
   ]
  },
  {
   "cell_type": "code",
   "execution_count": 10,
   "id": "c262a243-c848-443b-84cf-133c8202746d",
   "metadata": {},
   "outputs": [
    {
     "data": {
      "text/plain": [
       "0.8434038267875126"
      ]
     },
     "execution_count": 10,
     "metadata": {},
     "output_type": "execute_result"
    }
   ],
   "source": [
    "R = recall_score(Y_train_2, y_pred)\n",
    "R\n"
   ]
  },
  {
   "cell_type": "code",
   "execution_count": 11,
   "id": "76289e4e-b39b-4e6c-aa59-712e52d08f7e",
   "metadata": {},
   "outputs": [
    {
     "data": {
      "text/plain": [
       "0.8835164835164835"
      ]
     },
     "execution_count": 11,
     "metadata": {},
     "output_type": "execute_result"
    }
   ],
   "source": [
    "F = f1_score(Y_train_2, y_pred)\n",
    "F"
   ]
  },
  {
   "cell_type": "code",
   "execution_count": 12,
   "id": "ad1b413a-df7a-4378-b73a-9c186e6b26bd",
   "metadata": {},
   "outputs": [
    {
     "data": {
      "text/plain": [
       "array([22306.58097691])"
      ]
     },
     "execution_count": 12,
     "metadata": {},
     "output_type": "execute_result"
    }
   ],
   "source": [
    "modelo.fit(X_train, Y_train_2)\n",
    "Y_score = modelo.decision_function([digito])\n",
    "Y_score"
   ]
  },
  {
   "cell_type": "code",
   "execution_count": 13,
   "id": "07eab117-a948-49b6-aefb-00a6994d1dc1",
   "metadata": {},
   "outputs": [
    {
     "data": {
      "text/plain": [
       "array([ -489.56339   ,  -661.76968623,  -561.23064616, ...,\n",
       "       -1171.63242908,  -609.99854833,  -690.71217634])"
      ]
     },
     "execution_count": 13,
     "metadata": {},
     "output_type": "execute_result"
    }
   ],
   "source": [
    "Y_scores = cross_val_predict(modelo, X_train, Y_train_2, cv = 5 , method=\"decision_function\")\n",
    "Y_scores"
   ]
  },
  {
   "cell_type": "code",
   "execution_count": 14,
   "id": "bc4d5bbb-64ee-41b7-a918-c28dd98f7e82",
   "metadata": {},
   "outputs": [
    {
     "data": {
      "image/png": "[encoded data removed]",
      "text/plain": [
       "<Figure size 640x480 with 1 Axes>"
      ]
     },
     "metadata": {},
     "output_type": "display_data"
    }
   ],
   "source": [
    "precisions, recalls, thresholds = precision_recall_curve(Y_train_2, Y_scores)\n",
    "\n",
    "plt.plot(thresholds, precisions[:-1], 'r-', label=\"Precisão\" , linewidth=1)\n",
    "plt.plot(thresholds, recalls[:-1], '-g', label=\"Recall\" )\n",
    "plt.vlines(1752.2176321862391, 0, 1.0, linestyles =\"solid\", label=\"thresholds\")\n",
    "plt.show()"
   ]
  },
  {
   "cell_type": "code",
   "execution_count": 15,
   "id": "4e334e8c-4560-4dca-ae18-76380fee8b9a",
   "metadata": {},
   "outputs": [
    {
     "data": {
      "text/plain": [
       "-44.258553920824"
      ]
     },
     "execution_count": 15,
     "metadata": {},
     "output_type": "execute_result"
    }
   ],
   "source": [
    "precisao_84 = (precisions >= 0.84).argmax()\n",
    "thresholds_84 = thresholds[precisao_84]\n",
    "thresholds_84"
   ]
  },
  {
   "cell_type": "code",
   "execution_count": 16,
   "id": "491f2320-b86a-4f9f-8ba8-5c5ea6623669",
   "metadata": {},
   "outputs": [],
   "source": [
    "fpr, tpr, thresholds = roc_curve(Y_train_2, Y_scores)"
   ]
  },
  {
   "cell_type": "code",
   "execution_count": 17,
   "id": "71f433e6-9846-4c4e-8d2f-58c3cb330dd1",
   "metadata": {},
   "outputs": [
    {
     "data": {
      "image/png": "[encoded data removed]",
      "text/plain": [
       "<Figure size 640x480 with 1 Axes>"
      ]
     },
     "metadata": {},
     "output_type": "display_data"
    },
    {
     "data": {
      "text/plain": [
       "0.00016784155756965425"
      ]
     },
     "execution_count": 17,
     "metadata": {},
     "output_type": "execute_result"
    }
   ],
   "source": [
    "threshold_72 = (thresholds <= (precisions >= 0.72).argmax()).argmax()\n",
    "tpr72, fpr72 = tpr[threshold_72], fpr[threshold_72]\n",
    "plt.plot(fpr, tpr, label='Curva ROC')\n",
    "plt.plot([0, 1], [0, 1], 'k:', label=\"Curva ROC-Modelo aleatório\")\n",
    "plt.plot([fpr72], [tpr72], \"ro\", markersize=8, zorder=5, label=\"Limite 72% de precisão\")\n",
    "plt.show()\n",
    "tpr72"
   ]
  },
  {
   "cell_type": "code",
   "execution_count": 18,
   "id": "85d57cab-ce1a-4400-b6ff-b10d07e4b00a",
   "metadata": {},
   "outputs": [
    {
     "data": {
      "text/plain": [
       "0.9783509112595887"
      ]
     },
     "execution_count": 18,
     "metadata": {},
     "output_type": "execute_result"
    }
   ],
   "source": [
    "Roc = roc_auc_score(Y_train_2, Y_scores)\n",
    "Roc"
   ]
  },
  {
   "cell_type": "code",
   "execution_count": null,
   "id": "fc238bef-a8ba-4c91-985a-a934eadef25c",
   "metadata": {},
   "outputs": [],
   "source": [
    "modelo_tree = RandomForestClassifier(random_state=60)\n",
    "y_pred_tree = cross_val_predict(modelo_tree, X_train, Y_train_2, cv = 5, method='predict_proba')\n",
    "y_scores_tree = y_pred_tree[:,1]\n",
    "precision_tree, recall_tree, thresholds_tree = precision_recall_curve(Y_train_2, y_scores_tree)\n",
    "\n",
    "plt.plot(recall_tree, precision_tree, label=\"Random Forest\")\n",
    "\n",
    "plt.plot(recalls, precisions, label=\"SGD\")\n",
    "\n",
    "plt.show()"
   ]
  },
  {
   "cell_type": "code",
   "execution_count": null,
   "id": "c260c1d4-0ee7-45d9-abbe-47b265ee48b6",
   "metadata": {},
   "outputs": [],
   "source": []
  }
 ],
 "metadata": {
  "kernelspec": {
   "display_name": "Python 3 (ipykernel)",
   "language": "python",
   "name": "python3"
  },
  "language_info": {
   "codemirror_mode": {
    "name": "ipython",
    "version": 3
   },
   "file_extension": ".py",
   "mimetype": "text/x-python",
   "name": "python",
   "nbconvert_exporter": "python",
   "pygments_lexer": "ipython3",
   "version": "3.11.7"
  }
 },
 "nbformat": 4,
 "nbformat_minor": 5
}

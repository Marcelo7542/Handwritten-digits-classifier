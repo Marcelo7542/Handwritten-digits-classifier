{
 "cells": [
  {
   "cell_type": "code",
   "execution_count": 14,
   "id": "082b06aa-4edc-42ca-b7b1-ad05b7347574",
   "metadata": {},
   "outputs": [],
   "source": [
    "from sklearn.datasets import fetch_openml\n",
    "from sklearn.linear_model import SGDClassifier, LogisticRegression\n",
    "from sklearn.ensemble import RandomForestClassifier\n",
    "from sklearn.naive_bayes import GaussianNB\n",
    "from sklearn.model_selection import cross_val_score, cross_val_predict\n",
    "from sklearn.multiclass import OneVsRestClassifier\n",
    "from sklearn.dummy import DummyClassifier\n",
    "from sklearn.svm import SVC\n",
    "from sklearn.metrics import ConfusionMatrixDisplay\n",
    "from sklearn.preprocessing import StandardScaler\n",
    "from sklearn.model_selection import GridSearchCV\n",
    "import matplotlib.pyplot as plt\n",
    "\n",
    "dados = fetch_openml('mnist_784', as_frame=False)\n",
    "\n",
    "X, Y= dados.data, dados.target"
   ]
  },
  {
   "cell_type": "code",
   "execution_count": 15,
   "id": "cb4b9f76-8e0f-441d-82cf-f952c3d6dcc0",
   "metadata": {},
   "outputs": [],
   "source": [
    "X_train, X_test, Y_train, Y_test = X[:60000], X[60000:],Y[:60000],Y[60000:]\n",
    "scaler = StandardScaler()\n",
    "X_train = scaler.fit_transform(X_train.astype(\"float64\"))\n",
    "X_test = scaler.fit_transform(X_test.astype(\"float64\"))"
   ]
  },
  {
   "cell_type": "code",
   "execution_count": 18,
   "id": "22151e47-8f9f-4bf4-92ff-5fe7084a3c7b",
   "metadata": {},
   "outputs": [],
   "source": [
    "param_grid ={\n",
    "'n_estimators':[50,150,250],\n",
    "'criterion': ['gini', 'entropy'], \n",
    "'max_depth': [None, 10,15],  \n",
    "'min_samples_split': [2, 5, 10], \n",
    "'max_features': ['sqrt', 'log2']\n",
    "}"
   ]
  },
  {
   "cell_type": "code",
   "execution_count": null,
   "id": "a5571302-2be0-4a11-9e05-c277b2ef0856",
   "metadata": {},
   "outputs": [],
   "source": [
    "grid = GridSearchCV(RandomForestClassifier(),param_grid=param_grid, cv=3,scoring='accuracy')\n",
    "grid.fit(X_train, Y_train)\n",
    "grid.best_params_"
   ]
  },
  {
   "cell_type": "code",
   "execution_count": null,
   "id": "7534823a-ff7c-420c-8e22-cf4500877e35",
   "metadata": {},
   "outputs": [],
   "source": [
    "Y_train_pred = cross_val_predict(grid, X_train, Y_train,cv= 4)\n",
    "ConfusionMatrixDisplay.from_predictions(Y_train, Y_train_pred)\n",
    "plt.show()"
   ]
  },
  {
   "cell_type": "code",
   "execution_count": null,
   "id": "e1224162-2005-498d-9423-7457da0ca756",
   "metadata": {},
   "outputs": [],
   "source": [
    "ConfusionMatrixDisplay.from_predictions(Y_train, Y_train_pred, normalize='true', value_formats='.0%')\n",
    "plt.show()"
   ]
  },
  {
   "cell_type": "code",
   "execution_count": null,
   "id": "d8f56152-90ba-44f1-91d5-95453586aac7",
   "metadata": {},
   "outputs": [],
   "source": [
    "Errors = (Y_train_pred != Y_train)\n",
    "ConfusionMatrixDisplay.from_prediction(Y_train, Y_train_pred, sample_weight=Errors, normalize = 'true', value_formats='.0%')\n",
    "plt.show()"
   ]
  },
  {
   "cell_type": "code",
   "execution_count": null,
   "id": "c388d587-af6e-4bf5-ae68-832783056f26",
   "metadata": {},
   "outputs": [],
   "source": [
    "a =  \"7\"\n",
    "b =  \"9\"\n",
    "X_aa = X_train[[Y_train == a] & [Y_train_pred == a]]\n",
    "X_ab = X_train[[Y_train == a] & [Y_train_pred == b]]\n",
    "X_ba = X_train[[Y_train == b] & [Y_train_pred == a]]\n",
    "X_bb = X_train[[Y_train == b] & [Y_train_pred == b]]"
   ]
  },
  {
   "cell_type": "code",
   "execution_count": null,
   "id": "e450cae0-fd79-4c3a-b536-20acbe4d1457",
   "metadata": {},
   "outputs": [],
   "source": [
    "fig, axes = plt.subplots(2, 2, figsize=(10, 10))\n",
    "\n",
    "axes[0, 0].imshow(X_aa[0], cmap='gray')\n",
    "axes[0, 0].set_title(f'Class {cl_a} predicted as {cl_a}')\n",
    "axes[0, 0].axis('off')\n",
    "\n",
    "axes[0, 1].imshow(X_ab[0], cmap='gray')\n",
    "axes[0, 1].set_title(f'Class {cl_a} predicted as {cl_b}')\n",
    "axes[0, 1].axis('off')\n",
    "\n",
    "axes[1, 0].imshow(X_ba[0], cmap='gray')\n",
    "axes[1, 0].set_title(f'Class {cl_b} predicted as {cl_a}')\n",
    "axes[1, 0].axis('off')\n",
    "\n",
    "axes[1, 1].imshow(X_bb[0], cmap='gray')\n",
    "axes[1, 1].set_title(f'Class {cl_b} predicted as {cl_b}')\n",
    "axes[1, 1].axis('off')\n",
    "\n",
    "plt.tight_layout()\n",
    "plt.show()"
   ]
  }
 ],
 "metadata": {
  "kernelspec": {
   "display_name": "Python 3 (ipykernel)",
   "language": "python",
   "name": "python3"
  },
  "language_info": {
   "codemirror_mode": {
    "name": "ipython",
    "version": 3
   },
   "file_extension": ".py",
   "mimetype": "text/x-python",
   "name": "python",
   "nbconvert_exporter": "python",
   "pygments_lexer": "ipython3",
   "version": "3.11.7"
  }
 },
 "nbformat": 4,
 "nbformat_minor": 5
}

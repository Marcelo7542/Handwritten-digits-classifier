{
 "cells": [
  {
   "cell_type": "code",
   "execution_count": 7,
   "id": "b70a4c36-1ade-4e05-a274-f3e35253bbaa",
   "metadata": {},
   "outputs": [],
   "source": [
    "from sklearn.datasets import fetch_openml\n",
    "from sklearn.linear_model import SGDClassifier, LogisticRegression\n",
    "from sklearn.ensemble import RandomForestClassifier\n",
    "from sklearn.naive_bayes import GaussianNB\n",
    "from sklearn.model_selection import cross_val_score\n",
    "from sklearn.multiclass import OneVsRestClassifier\n",
    "from sklearn.neighbors import KNeighborsClassifier\n",
    "from sklearn.dummy import DummyClassifier\n",
    "from sklearn.svm import SVC\n",
    "from sklearn.metrics import confusion_matrix, precision_score, recall_score, f1_score, roc_curve, accuracy_score\n",
    "from sklearn.preprocessing import StandardScaler\n",
    "import matplotlib.pyplot as plt\n",
    "\n",
    "dados = fetch_openml('mnist_784', as_frame=False)\n",
    "\n",
    "X, Y= dados.data, dados.target"
   ]
  },
  {
   "cell_type": "code",
   "execution_count": 8,
   "id": "29765fd9-d61a-4861-875e-1ce868472bfe",
   "metadata": {},
   "outputs": [],
   "source": [
    "X_train, X_test, Y_train, Y_test = X[:60000], X[60000:],Y[:60000],Y[60000:]\n",
    "scaler = StandardScaler()\n",
    "X_train = scaler.fit_transform(X_train.astype(\"float64\"))\n",
    "X_test = scaler.transform(X_test.astype(\"float64\"))"
   ]
  },
  {
   "cell_type": "code",
   "execution_count": 9,
   "id": "0fb421d6-0407-4fce-825c-d9b7dcd9887b",
   "metadata": {},
   "outputs": [
    {
     "data": {
      "text/plain": [
       "array(['7'], dtype=object)"
      ]
     },
     "execution_count": 9,
     "metadata": {},
     "output_type": "execute_result"
    }
   ],
   "source": [
    "modelo_svc = SVC(random_state=60)\n",
    "modelo_svc.fit(X_train[:3000], Y_train[:3000])\n",
    "modelo_svc.predict([X[5]])"
   ]
  },
  {
   "cell_type": "code",
   "execution_count": 10,
   "id": "39ac7982-5933-4301-aa9a-a52a03da7cc7",
   "metadata": {},
   "outputs": [],
   "source": [
    "Y_pred = modelo_svc.predict(X_train[3000:4000])\n",
    "Y_true = Y_train[3000:4000]\n",
    "\n",
    "accuracy = accuracy_score(Y_true, Y_pred)\n",
    "precision = precision_score(Y_true, Y_pred, average=\"weighted\")\n",
    "recall = recall_score(Y_true, Y_pred, average = \"weighted\")"
   ]
  },
  {
   "cell_type": "code",
   "execution_count": 11,
   "id": "112cfe65-c7c2-4834-8ee5-15e47039e559",
   "metadata": {},
   "outputs": [],
   "source": [
    "scores = modelo_svc.decision_function(X_train[:3000])"
   ]
  },
  {
   "cell_type": "code",
   "execution_count": 12,
   "id": "63b7cc6a-2559-45b1-8ac3-16b24c4d241d",
   "metadata": {},
   "outputs": [
    {
     "name": "stdout",
     "output_type": "stream",
     "text": [
      "['0' '1' '2' '3' '4' '5' '6' '7' '8' '9']\n",
      "[ 4.94956348 -0.28860759  9.30327292  4.97084146  2.79310454  4.98064104\n",
      "  0.73469445  2.78527888  7.239243    7.20019899]\n",
      "2\n"
     ]
    }
   ],
   "source": [
    "index = scores[5].round(3).argmax()\n",
    "print(modelo_svc.classes_)\n",
    "print(scores[5])\n",
    "print(modelo_svc.classes_[index])"
   ]
  },
  {
   "cell_type": "code",
   "execution_count": 13,
   "id": "4a6e29be-2e6b-45c1-b53c-6c20502924b1",
   "metadata": {},
   "outputs": [
    {
     "name": "stderr",
     "output_type": "stream",
     "text": [
      "C:\\Users\\marce\\anaconda4\\Lib\\site-packages\\sklearn\\linear_model\\_stochastic_gradient.py:723: ConvergenceWarning: Maximum number of iteration reached before convergence. Consider increasing max_iter to improve the fit.\n",
      "  warnings.warn(\n",
      "C:\\Users\\marce\\anaconda4\\Lib\\site-packages\\sklearn\\linear_model\\_stochastic_gradient.py:723: ConvergenceWarning: Maximum number of iteration reached before convergence. Consider increasing max_iter to improve the fit.\n",
      "  warnings.warn(\n",
      "C:\\Users\\marce\\anaconda4\\Lib\\site-packages\\sklearn\\linear_model\\_stochastic_gradient.py:723: ConvergenceWarning: Maximum number of iteration reached before convergence. Consider increasing max_iter to improve the fit.\n",
      "  warnings.warn(\n"
     ]
    },
    {
     "data": {
      "text/plain": [
       "array([0.89453333, 0.9042    , 0.8974    , 0.9078    ])"
      ]
     },
     "execution_count": 13,
     "metadata": {},
     "output_type": "execute_result"
    }
   ],
   "source": [
    "cross_val_score(SGDClassifier(random_state=60,max_iter=2000),X_train,Y_train, cv=4, scoring=\"accuracy\")"
   ]
  },
  {
   "cell_type": "code",
   "execution_count": null,
   "id": "7f78e6a0-c138-46d9-87ec-0ad937bb0c05",
   "metadata": {},
   "outputs": [],
   "source": [
    "OnevsR = OneVsRestClassifier(SVC(random_state=60))\n",
    "\"\"\"OnevsR.fit(X_train[:3000], Y_train[:3000])\n",
    "scores_OnevsR = OnevsR.decision_function(X_train[:3000])\n",
    "index_OnevsR = scores_OnevsR[5].round(3).argmax()\n",
    "print(OnevsR.predict([X[5]]))\n",
    "print(OnevsR.decision_function([X[5]]))\n",
    "print(OnevsR.estimators_)\n",
    "print(OnevsR.classes_)\n",
    "print(scores_OnevsR[5])\n",
    "print(OnevsR.classes_[index_OnevsR])\n",
    "\"\"\"\n",
    "\n",
    "cross_val_score(OnevsR,X_train,Y_train, cv=4, scoring=\"accuracy\")"
   ]
  },
  {
   "cell_type": "code",
   "execution_count": null,
   "id": "32e0efea-c443-418d-bea9-ee189f1e4407",
   "metadata": {},
   "outputs": [],
   "source": [
    "Modelo_LR = LogisticRegression(\n",
    "    penalty='l2',      \n",
    "    C=1.0,           \n",
    "    solver='lbfgs',      \n",
    "    multi_class='multinomial', \n",
    "    max_iter=1000,          \n",
    "    random_state=60        \n",
    ")\n",
    "cross_val_score(Modelo_LR,X_train,Y_train, cv=4, scoring=\"accuracy\")"
   ]
  },
  {
   "cell_type": "code",
   "execution_count": null,
   "id": "8cd3d7a4-c4a1-470d-9d56-31e1488ff0e0",
   "metadata": {},
   "outputs": [],
   "source": [
    "Modelo_RFC = RandomForestClassifier(\n",
    "    n_estimators=200,       \n",
    "    max_depth=None,        \n",
    "    min_samples_split=2, \n",
    "    min_samples_leaf=1,\n",
    "    max_features='sqrt',\n",
    "    bootstrap=True,\n",
    "    random_state=42 \n",
    ")\n",
    "cross_val_score(Modelo_RFC,X_train,Y_train, cv=4, scoring=\"accuracy\")"
   ]
  },
  {
   "cell_type": "code",
   "execution_count": null,
   "id": "f5b70d27-2716-4dbf-b743-d1205552ad1a",
   "metadata": {},
   "outputs": [],
   "source": [
    "Modelo_GNB = GaussianNB()\n",
    "cross_val_score(Modelo_GNB,X_train,Y_train, cv=4, scoring=\"accuracy\")"
   ]
  },
  {
   "cell_type": "code",
   "execution_count": null,
   "id": "97fbdcc1-d836-4875-8926-f614131cc56b",
   "metadata": {},
   "outputs": [],
   "source": [
    "Modelo_KNC = KNeighborsClassifier(n_neighbors=10)\n",
    "cross_val_score(Modelo_KNC,X_train,Y_train, cv=4, scoring=\"accuracy\")"
   ]
  },
  {
   "cell_type": "code",
   "execution_count": null,
   "id": "802e754d-da0f-4d82-be68-c324ef94c3cd",
   "metadata": {},
   "outputs": [],
   "source": [
    "cross_val_score(DummyClassifier(),X_train,Y_train, cv=4, scoring=\"accuracy\")"
   ]
  },
  {
   "cell_type": "code",
   "execution_count": null,
   "id": "2e718be9-de26-4e9c-a977-6c5bc829f7e6",
   "metadata": {},
   "outputs": [],
   "source": []
  }
 ],
 "metadata": {
  "kernelspec": {
   "display_name": "Python 3 (ipykernel)",
   "language": "python",
   "name": "python3"
  },
  "language_info": {
   "codemirror_mode": {
    "name": "ipython",
    "version": 3
   },
   "file_extension": ".py",
   "mimetype": "text/x-python",
   "name": "python",
   "nbconvert_exporter": "python",
   "pygments_lexer": "ipython3",
   "version": "3.11.7"
  }
 },
 "nbformat": 4,
 "nbformat_minor": 5
}

{
 "cells": [
  {
   "cell_type": "code",
   "execution_count": 51,
   "id": "f9ae75fe-0fb7-4810-a021-9895aa14d6ce",
   "metadata": {},
   "outputs": [],
   "source": [
    "from sklearn.datasets import fetch_openml\n",
    "from sklearn.linear_model import SGDClassifier, LogisticRegression\n",
    "from sklearn.ensemble import RandomForestClassifier\n",
    "from sklearn.naive_bayes import GaussianNB\n",
    "from sklearn.model_selection import cross_val_score, cross_val_predict\n",
    "from sklearn.multiclass import OneVsRestClassifier\n",
    "from sklearn.neighbors import KNeighborsClassifier\n",
    "from sklearn.dummy import DummyClassifier\n",
    "from sklearn.svm import SVC\n",
    "from sklearn.metrics import ConfusionMatrixDisplay, f1_score\n",
    "from sklearn.preprocessing import StandardScaler\n",
    "from sklearn.model_selection import GridSearchCV\n",
    "from sklearn.multioutput import ClassifierChain\n",
    "import matplotlib.pyplot as plt\n",
    "import numpy as np\n",
    "\n",
    "dados = fetch_openml('mnist_784', as_frame=False)\n",
    "\n",
    "\n",
    "X, Y= dados.data, dados.target"
   ]
  },
  {
   "cell_type": "code",
   "execution_count": 52,
   "id": "a3cb263c-8093-4401-bc6d-06293923ce8a",
   "metadata": {},
   "outputs": [],
   "source": [
    "X_train, X_test, Y_train, Y_test = X[:60000], X[60000:],Y[:60000],Y[60000:]\n",
    "scaler = StandardScaler()\n",
    "X_train = scaler.fit_transform(X_train.astype(\"float64\"))\n",
    "X_test = scaler.fit_transform(X_test.astype(\"float64\"))"
   ]
  },
  {
   "cell_type": "code",
   "execution_count": 53,
   "id": "8b9885a6-8f1c-4b98-97aa-060cd7ea6c2b",
   "metadata": {},
   "outputs": [],
   "source": [
    "def mostrar_imagem(imagem):\n",
    "    imagem = imagem.reshape(28,28)\n",
    "    plt.imshow(imagem, cmap='binary')\n",
    "    plt.axis('off')\n"
   ]
  },
  {
   "cell_type": "code",
   "execution_count": 54,
   "id": "53591cf1-4270-41bd-8504-55f392aa7a90",
   "metadata": {
    "scrolled": true
   },
   "outputs": [],
   "source": [
    "Y_train_pair = (Y_train.astype('int8') % 2 == 0)\n",
    "Y_train_odd = (Y_train.astype('int8') % 2 == 1)\n",
    "Y_train_big = (Y_train >='5')\n",
    "Y_train_small = (Y_train < '4')\n",
    "\n",
    "Y_train_multi = np.c_[Y_train_pair,Y_train_odd,Y_train_big,Y_train_small]"
   ]
  },
  {
   "cell_type": "code",
   "execution_count": 55,
   "id": "6c22282b-b6a6-4eab-9604-a3a32052cb04",
   "metadata": {},
   "outputs": [],
   "source": [
    "modelo_KNC = KNeighborsClassifier()"
   ]
  },
  {
   "cell_type": "code",
   "execution_count": 56,
   "id": "b9ce741a-e44f-4deb-90b8-10f242b888fb",
   "metadata": {},
   "outputs": [
    {
     "data": {
      "text/plain": [
       "0.9697468500756824"
      ]
     },
     "execution_count": 56,
     "metadata": {},
     "output_type": "execute_result"
    }
   ],
   "source": [
    "Y_train_pred = cross_val_predict(modelo_KNC, X_train, Y_train_multi, cv=4)\n",
    "\n",
    "f1_score(Y_train_multi, Y_train_pred, average=\"macro\")"
   ]
  },
  {
   "cell_type": "code",
   "execution_count": 57,
   "id": "700a65ce-8a95-4701-af28-daa7414e96bb",
   "metadata": {},
   "outputs": [],
   "source": [
    "modelo_RFC = RandomForestClassifier()\n",
    "Chain_Clf = ClassifierChain(modelo_RFC, cv= 4, random_state= 60)"
   ]
  },
  {
   "cell_type": "code",
   "execution_count": null,
   "id": "94e22949-e10b-446a-a0b3-90f09e1d3e54",
   "metadata": {},
   "outputs": [],
   "source": [
    "Y_train_pred_Chain = cross_val_predict(Chain_Clf, X_train, Y_train_multi, cv=4)\n",
    "\n",
    "f1_score(Y_train, Y_train_pred_Chain, average=\"macro\")\n"
   ]
  },
  {
   "cell_type": "code",
   "execution_count": null,
   "id": "38b0ef25-3d9a-4d13-baad-1b522597aba4",
   "metadata": {},
   "outputs": [],
   "source": [
    "np.random.seed(42)\n",
    "Y_train_new = X_train\n",
    "Y_test_new = X_test\n",
    "ruido = np.random.randint(0,100,(len(X_train) ,784))\n",
    "X_train_ruido = X_train + ruido\n",
    "\n",
    "ruido = np.random.randint(0,100,(len(X_test), 784))\n",
    "X_test_ruido = X_test + ruido\n",
    "Chain_Clf.fit(X_train_ruido, Y_train_new)\n",
    "mostrar_imagem(Y_test_new[0])\n",
    "mostrar_imagem(X_test[0])\n",
    "plt.show()"
   ]
  },
  {
   "cell_type": "code",
   "execution_count": null,
   "id": "e516a6e6-7ed0-4798-b1aa-23472bb56ddc",
   "metadata": {},
   "outputs": [],
   "source": [
    "Digito_corrigido = Chain_Clf.predict([X_test_ruido[0]])\n",
    "mostrar_imagem(Digito_corrigido)\n",
    "plt.show()"
   ]
  },
  {
   "cell_type": "code",
   "execution_count": null,
   "id": "9bace764-2483-42a4-bb7f-04a0951361c8",
   "metadata": {},
   "outputs": [],
   "source": []
  }
 ],
 "metadata": {
  "kernelspec": {
   "display_name": "Python 3 (ipykernel)",
   "language": "python",
   "name": "python3"
  },
  "language_info": {
   "codemirror_mode": {
    "name": "ipython",
    "version": 3
   },
   "file_extension": ".py",
   "mimetype": "text/x-python",
   "name": "python",
   "nbconvert_exporter": "python",
   "pygments_lexer": "ipython3",
   "version": "3.11.7"
  }
 },
 "nbformat": 4,
 "nbformat_minor": 5
}
